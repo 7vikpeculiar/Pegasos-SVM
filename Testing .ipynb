{
 "cells": [
  {
   "cell_type": "code",
   "execution_count": 22,
   "metadata": {},
   "outputs": [],
   "source": [
    "import os\n",
    "import gzip\n",
    "import numpy as np\n",
    "import matplotlib.pyplot as plt\n",
    "from tqdm import tqdm_notebook as tqdm\n",
    "import random\n",
    "import math\n",
    "from sklearn.metrics import confusion_matrix"
   ]
  },
  {
   "cell_type": "code",
   "execution_count": 23,
   "metadata": {},
   "outputs": [],
   "source": [
    "import mnist_reader"
   ]
  },
  {
   "cell_type": "code",
   "execution_count": 24,
   "metadata": {},
   "outputs": [],
   "source": [
    "#Load Data\n",
    "X_train, y_train = mnist_reader.load_mnist('data/fashion', kind='train')\n",
    "X_test, y_test = mnist_reader.load_mnist('data/fashion', kind='t10k')\n",
    "#Normalization\n",
    "X_train = X_train/255.0\n",
    "X_test =  X_test/255.0\n"
   ]
  },
  {
   "cell_type": "code",
   "execution_count": 25,
   "metadata": {},
   "outputs": [
    {
     "name": "stdout",
     "output_type": "stream",
     "text": [
      "(60000, 784)\n",
      "(10000, 784)\n",
      "(60000,)\n",
      "(10000,)\n"
     ]
    }
   ],
   "source": [
    "print(X_train.shape)\n",
    "print(X_test.shape)\n",
    "print(y_train.shape)\n",
    "print(y_test.shape)"
   ]
  },
  {
   "cell_type": "code",
   "execution_count": 26,
   "metadata": {},
   "outputs": [],
   "source": [
    "# print(X_test)\n",
    "def normalize_classes(y, minlab, maxlab):\n",
    "    return [int(2*((ele - minlab)/(maxlab - minlab)) -1) for ele in y]\n",
    "\n",
    "def getClasses(X_train, y_train, X_test, y_test,classes = [1,2]):\n",
    "    smaller_training_X = []\n",
    "    smaller_training_Y = []\n",
    "    smaller_testing_X = []\n",
    "    smaller_testing_Y = []  \n",
    "    for i in range(len((X_train))):\n",
    "        if y_train[i] in classes:\n",
    "            smaller_training_X.append(X_train[i])\n",
    "            smaller_training_Y.append(y_train[i])\n",
    "    for i in range(len(X_test)):\n",
    "        if y_test[i] in classes:\n",
    "            smaller_testing_X.append(X_test[i])\n",
    "            smaller_testing_Y.append(y_test[i])\n",
    "    smaller_training_Y = normalize_classes(smaller_training_Y, min(classes), max(classes))\n",
    "    smaller_testing_Y = normalize_classes(smaller_testing_Y, min(classes), max(classes))    \n",
    "    return np.array(smaller_training_X), np.array(smaller_training_Y), np.array(smaller_testing_X), np.array(smaller_testing_Y)\n",
    "\n",
    "def multiClassesSplit(X_train, y_train, X_test, y_test,class_label=1):\n",
    "    smaller_training_X = []\n",
    "    smaller_training_Y = []\n",
    "    smaller_testing_X = []\n",
    "    smaller_testing_Y = []  \n",
    "    for i in range(len((X_train))):\n",
    "        if y_train[i] == class_label:\n",
    "            smaller_training_X.append(X_train[i])\n",
    "            smaller_training_Y.append(1)\n",
    "        else:\n",
    "            smaller_training_X.append(X_train[i])\n",
    "            smaller_training_Y.append(-1)\n",
    "    for i in range(len(X_test)):\n",
    "        if y_test[i] == class_label:\n",
    "            smaller_testing_X.append(X_test[i])\n",
    "            smaller_testing_Y.append(1)\n",
    "        else:\n",
    "            smaller_training_X.append(X_train[i])\n",
    "            smaller_training_Y.append(-1)\n",
    "    return np.array(smaller_training_X), np.array(smaller_training_Y), np.array(smaller_testing_X), np.array(smaller_testing_Y)"
   ]
  },
  {
   "cell_type": "code",
   "execution_count": 27,
   "metadata": {},
   "outputs": [],
   "source": [
    "X_train_1 , y_train_1, X_test_1, y_test_1 = getClasses(X_train, y_train, X_test, y_test,classes=[0,1])"
   ]
  },
  {
   "cell_type": "code",
   "execution_count": 29,
   "metadata": {},
   "outputs": [
    {
     "name": "stderr",
     "output_type": "stream",
     "text": [
      "/home/sathvikb/anaconda3/envs/zenv/lib/python3.6/site-packages/sklearn/svm/base.py:196: FutureWarning: The default value of gamma will change from 'auto' to 'scale' in version 0.22 to account better for unscaled features. Set gamma explicitly to 'auto' or 'scale' to avoid this warning.\n",
      "  \"avoid this warning.\", FutureWarning)\n"
     ]
    },
    {
     "name": "stdout",
     "output_type": "stream",
     "text": [
      "Scikit SVC Accuracy 0.984\n"
     ]
    }
   ],
   "source": [
    "from sklearn.linear_model import SGDClassifier\n",
    "from sklearn.svm import SVC\n",
    "iters = int(len(X_train_1)/10.0)\n",
    "clf = SVC(max_iter=iters)\n",
    "clf.fit(X_train_1, y_train_1)\n",
    "y_pred = clf.predict(X_test_1)\n",
    "\n",
    "from sklearn.metrics import accuracy_score\n",
    "print('Scikit SVC Accuracy', accuracy_score(y_test_1,y_pred))"
   ]
  },
  {
   "cell_type": "code",
   "execution_count": 30,
   "metadata": {},
   "outputs": [
    {
     "name": "stderr",
     "output_type": "stream",
     "text": [
      "/home/sathvikb/anaconda3/envs/zenv/lib/python3.6/site-packages/sklearn/svm/base.py:196: FutureWarning: The default value of gamma will change from 'auto' to 'scale' in version 0.22 to account better for unscaled features. Set gamma explicitly to 'auto' or 'scale' to avoid this warning.\n",
      "  \"avoid this warning.\", FutureWarning)\n",
      "/home/sathvikb/anaconda3/envs/zenv/lib/python3.6/site-packages/sklearn/svm/base.py:244: ConvergenceWarning: Solver terminated early (max_iter=1200).  Consider pre-processing your data with StandardScaler or MinMaxScaler.\n",
      "  % self.max_iter, ConvergenceWarning)\n"
     ]
    },
    {
     "name": "stdout",
     "output_type": "stream",
     "text": [
      "Scikit SVC - Poly degree 2 Accuracy 0.9805\n"
     ]
    }
   ],
   "source": [
    "from sklearn.svm import SVC\n",
    "iters = int(len(X_train_1)/10.0)\n",
    "clf1 = SVC(max_iter=iters,kernel='poly',degree=2)\n",
    "clf1.fit(X_train_1, y_train_1)\n",
    "y_pred = clf1.predict(X_test_1)\n",
    "from sklearn.metrics import accuracy_score\n",
    "print('Scikit SVC - Poly degree 2 Accuracy', accuracy_score(y_test_1,y_pred))"
   ]
  },
  {
   "cell_type": "code",
   "execution_count": 31,
   "metadata": {},
   "outputs": [
    {
     "name": "stderr",
     "output_type": "stream",
     "text": [
      "/home/sathvikb/anaconda3/envs/zenv/lib/python3.6/site-packages/sklearn/svm/base.py:196: FutureWarning: The default value of gamma will change from 'auto' to 'scale' in version 0.22 to account better for unscaled features. Set gamma explicitly to 'auto' or 'scale' to avoid this warning.\n",
      "  \"avoid this warning.\", FutureWarning)\n"
     ]
    },
    {
     "name": "stdout",
     "output_type": "stream",
     "text": [
      "Scikit SVC - Sigmoid Accuracy 0.9825\n"
     ]
    }
   ],
   "source": [
    "from sklearn.svm import SVC\n",
    "iters = int(len(X_train_1)/10.0)\n",
    "clf1 = SVC(max_iter=iters,kernel='sigmoid',degree=2)\n",
    "clf1.fit(X_train_1, y_train_1)\n",
    "y_pred = clf1.predict(X_test_1)\n",
    "from sklearn.metrics import accuracy_score\n",
    "accuracy_score(y_test_1,y_pred)\n",
    "print('Scikit SVC - Sigmoid Accuracy', accuracy_score(y_test_1,y_pred))"
   ]
  },
  {
   "cell_type": "code",
   "execution_count": null,
   "metadata": {},
   "outputs": [],
   "source": []
  }
 ],
 "metadata": {
  "kernelspec": {
   "display_name": "Python 3",
   "language": "python",
   "name": "python3"
  },
  "language_info": {
   "codemirror_mode": {
    "name": "ipython",
    "version": 3
   },
   "file_extension": ".py",
   "mimetype": "text/x-python",
   "name": "python",
   "nbconvert_exporter": "python",
   "pygments_lexer": "ipython3",
   "version": "3.6.5"
  }
 },
 "nbformat": 4,
 "nbformat_minor": 2
}
