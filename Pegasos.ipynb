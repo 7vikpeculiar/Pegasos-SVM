{
 "cells": [
  {
   "cell_type": "code",
   "execution_count": 47,
   "metadata": {},
   "outputs": [],
   "source": [
    "import os\n",
    "import gzip\n",
    "import numpy as np\n",
    "import matplotlib.pyplot as plt\n",
    "from tqdm import tqdm_notebook as tqdm\n",
    "import random\n",
    "import math\n",
    "from sklearn.metrics import confusion_matrix\n",
    "from datetime import datetime"
   ]
  },
  {
   "cell_type": "code",
   "execution_count": 48,
   "metadata": {},
   "outputs": [],
   "source": [
    "import mnist_reader"
   ]
  },
  {
   "cell_type": "code",
   "execution_count": 49,
   "metadata": {},
   "outputs": [
    {
     "name": "stdout",
     "output_type": "stream",
     "text": [
      "Obtained Data\n"
     ]
    }
   ],
   "source": [
    "#Load Data\n",
    "X_train, y_train = mnist_reader.load_mnist('data/fashion', kind='train')\n",
    "X_test, y_test = mnist_reader.load_mnist('data/fashion', kind='t10k')\n",
    "#Normalization\n",
    "X_train = X_train/255.0\n",
    "X_test =  X_test/255.0\n",
    "print('Obtained Data')"
   ]
  },
  {
   "cell_type": "markdown",
   "metadata": {},
   "source": [
    "`Inputs`"
   ]
  },
  {
   "cell_type": "code",
   "execution_count": 50,
   "metadata": {},
   "outputs": [
    {
     "name": "stdout",
     "output_type": "stream",
     "text": [
      "(60000, 784)\n",
      "(10000, 784)\n",
      "(60000,)\n",
      "(10000,)\n"
     ]
    }
   ],
   "source": [
    "print(X_train.shape)\n",
    "print(X_test.shape)\n",
    "print(y_train.shape)\n",
    "print(y_test.shape)"
   ]
  },
  {
   "cell_type": "code",
   "execution_count": 51,
   "metadata": {},
   "outputs": [],
   "source": [
    "# array = X_train[0].reshape(28,28)\n",
    "# plt.figure()\n",
    "# plt.imshow(array)\n",
    "# plt.colorbar()\n",
    "# plt.grid(False)\n",
    "# plt.show()\n"
   ]
  },
  {
   "cell_type": "code",
   "execution_count": 52,
   "metadata": {},
   "outputs": [],
   "source": [
    "# print(X_test)\n",
    "def normalize_classes(y, minlab, maxlab):\n",
    "    return [int(2*((ele - minlab)/(maxlab - minlab)) -1) for ele in y]\n",
    "\n",
    "def getClasses(X_train, y_train, X_test, y_test,classes = [1,2], input_size=1):\n",
    "    smaller_training_X = []\n",
    "    smaller_training_Y = []\n",
    "    smaller_testing_X = []\n",
    "    smaller_testing_Y = []  \n",
    "    for i in range(len((X_train))):\n",
    "        if y_train[i] in classes:\n",
    "            smaller_training_X.append(X_train[i])\n",
    "            smaller_training_Y.append(y_train[i])\n",
    "    for i in range(len(X_test)):\n",
    "        if y_test[i] in classes:\n",
    "            smaller_testing_X.append(X_test[i])\n",
    "            smaller_testing_Y.append(y_test[i])\n",
    "    smaller_training_Y = normalize_classes(smaller_training_Y, min(classes), max(classes))\n",
    "    smaller_testing_Y = normalize_classes(smaller_testing_Y, min(classes), max(classes))    \n",
    "    return np.array(smaller_training_X[0:int(len(smaller_training_X)*input_size)]), np.array(smaller_training_Y[0:int(len(smaller_training_Y)*input_size)]), np.array(smaller_testing_X), np.array(smaller_testing_Y)\n",
    "\n",
    "def multiClassesSplit(X_train, y_train, X_test, y_test,class_label=1):\n",
    "    smaller_training_X = []\n",
    "    smaller_training_Y = []\n",
    "    smaller_testing_X = []\n",
    "    smaller_testing_Y = []  \n",
    "    for i in range(len((X_train))):\n",
    "        if y_train[i] == class_label:\n",
    "            smaller_training_X.append(X_train[i])\n",
    "            smaller_training_Y.append(1)\n",
    "        else:\n",
    "            smaller_training_X.append(X_train[i])\n",
    "            smaller_training_Y.append(-1)\n",
    "    for i in range(len(X_test)):\n",
    "        if y_test[i] == class_label:\n",
    "            smaller_testing_X.append(X_test[i])\n",
    "            smaller_testing_Y.append(1)\n",
    "        else:\n",
    "            smaller_training_X.append(X_train[i])\n",
    "            smaller_training_Y.append(-1)\n",
    "    return np.array(smaller_training_X), np.array(smaller_training_Y), np.array(smaller_testing_X), np.array(smaller_testing_Y)"
   ]
  },
  {
   "attachments": {
    "image.png": {
     "image/png": "[encoded data removed]"
    }
   },
   "cell_type": "markdown",
   "metadata": {},
   "source": [
    "![image.png](attachment:image.png)"
   ]
  },
  {
   "cell_type": "code",
   "execution_count": 53,
   "metadata": {},
   "outputs": [],
   "source": [
    "class PegasosSVM():\n",
    "    \"\"\"Implementation of SVM with SGD with PEGASOS Algorithm\"\"\"\n",
    "    def __init__(self, iters=10, lamda=1):\n",
    "        self.iter = iters\n",
    "        self.lamda = lamda\n",
    "        self.weight = 0 #Weight initialized\n",
    "        self.S = 0 #Number of Samples  \n",
    "        \n",
    "    def fit(self, X, y):\n",
    "        self.iter = int(len(X)/10.0)\n",
    "        self.S = len(X) #Number of Samples\n",
    "        self.weight = np.zeros(len(X[0]))\n",
    "        for t in range(1,self.iter+1):\n",
    "            index = random.randint(0,self.S-1)\n",
    "            # Get index from 0 to S\n",
    "            eta = 1.0/(t*self.lamda)\n",
    "            dot = np.dot(self.weight, X[index])\n",
    "            w_new =  (1 - eta*self.lamda)*self.weight\n",
    "            if y[index]*dot < 1:\n",
    "                w_new += eta*y[index]*X[index]\n",
    "            w_new = min(1, 1.0/(math.sqrt(self.lamda)*np.linalg.norm(w_new)))*w_new\n",
    "            self.weight = w_new\n",
    "        return self.weight\n",
    "    \n",
    "    def get_prediction(self, X):\n",
    "        return np.sign(np.dot(X, self.weight)).astype(int)\n",
    "    \n",
    "    def classify(self, X, y):\n",
    "        count = 0\n",
    "        for i in range(len(X)):\n",
    "            if y[i] == np.sign(np.dot(self.weight,X[i])):\n",
    "                count += 1\n",
    "        return count/len(X)\n",
    "    "
   ]
  },
  {
   "cell_type": "code",
   "execution_count": 55,
   "metadata": {},
   "outputs": [
    {
     "name": "stdout",
     "output_type": "stream",
     "text": [
      "Pegasos Linear Classifier - accuracy 0.978\n",
      "Time taken 0:00:00.279533\n"
     ]
    }
   ],
   "source": [
    "start=datetime.now()\n",
    "X_train_1 , y_train_1, X_test_1, y_test_1 = getClasses(X_train, y_train, X_test, y_test,input_size=1)\n",
    "psvm = PegasosSVM()\n",
    "psvm.fit(X_train_1, y_train_1)\n",
    "print('Pegasos Linear Classifier - accuracy', psvm.classify(X_test_1,y_test_1))\n",
    "print('Time taken', datetime.now()-start)"
   ]
  },
  {
   "cell_type": "code",
   "execution_count": 57,
   "metadata": {},
   "outputs": [
    {
     "name": "stdout",
     "output_type": "stream",
     "text": [
      "Confusion Matrix for Linear SVM\n",
      "[[5836  164]\n",
      " [  74 5926]]\n"
     ]
    }
   ],
   "source": [
    "matrix = confusion_matrix(y_train_1, psvm.get_prediction(X_train_1))\n",
    "tn, fp, fn, tp = matrix.ravel()\n",
    "print('Confusion Matrix for Linear SVM')\n",
    "print(matrix)"
   ]
  },
  {
   "cell_type": "code",
   "execution_count": 58,
   "metadata": {
    "scrolled": true
   },
   "outputs": [
    {
     "name": "stdout",
     "output_type": "stream",
     "text": [
      "Accuracy for Linear Classifier for classes 1 0 is 0.9645\n",
      "Accuracy for Linear Classifier for classes 2 0 is 0.9515\n",
      "Accuracy for Linear Classifier for classes 2 1 is 0.9765\n",
      "Accuracy for Linear Classifier for classes 3 0 is 0.8865\n",
      "Accuracy for Linear Classifier for classes 3 1 is 0.9645\n",
      "Accuracy for Linear Classifier for classes 3 2 is 0.965\n",
      "Accuracy for Linear Classifier for classes 4 0 is 0.9685\n",
      "Accuracy for Linear Classifier for classes 4 1 is 0.9705\n",
      "Accuracy for Linear Classifier for classes 4 2 is 0.767\n",
      "Accuracy for Linear Classifier for classes 4 3 is 0.9215\n",
      "Accuracy for Linear Classifier for classes 5 0 is 0.9925\n",
      "Accuracy for Linear Classifier for classes 5 1 is 0.994\n",
      "Accuracy for Linear Classifier for classes 5 2 is 0.9965\n",
      "Accuracy for Linear Classifier for classes 5 3 is 0.9935\n",
      "Accuracy for Linear Classifier for classes 5 4 is 0.995\n",
      "Accuracy for Linear Classifier for classes 6 0 is 0.7945\n",
      "Accuracy for Linear Classifier for classes 6 1 is 0.963\n",
      "Accuracy for Linear Classifier for classes 6 2 is 0.6925\n",
      "Accuracy for Linear Classifier for classes 6 3 is 0.8955\n",
      "Accuracy for Linear Classifier for classes 6 4 is 0.7435\n",
      "Accuracy for Linear Classifier for classes 6 5 is 0.9905\n",
      "Accuracy for Linear Classifier for classes 7 0 is 0.9975\n",
      "Accuracy for Linear Classifier for classes 7 1 is 0.9985\n",
      "Accuracy for Linear Classifier for classes 7 2 is 0.9995\n",
      "Accuracy for Linear Classifier for classes 7 3 is 0.9995\n",
      "Accuracy for Linear Classifier for classes 7 4 is 0.9995\n",
      "Accuracy for Linear Classifier for classes 7 5 is 0.8435\n",
      "Accuracy for Linear Classifier for classes 7 6 is 0.999\n",
      "Accuracy for Linear Classifier for classes 8 0 is 0.97\n",
      "Accuracy for Linear Classifier for classes 8 1 is 0.991\n",
      "Accuracy for Linear Classifier for classes 8 2 is 0.9715\n",
      "Accuracy for Linear Classifier for classes 8 3 is 0.973\n",
      "Accuracy for Linear Classifier for classes 8 4 is 0.9775\n",
      "Accuracy for Linear Classifier for classes 8 5 is 0.9775\n",
      "Accuracy for Linear Classifier for classes 8 6 is 0.948\n",
      "Accuracy for Linear Classifier for classes 8 7 is 0.9925\n"
     ]
    }
   ],
   "source": [
    "for i in range(0,9):\n",
    "    for j in range(0,i):\n",
    "        X_train_1 , y_train_1, X_test_1, y_test_1 = getClasses(X_train, y_train, X_test, y_test,classes=[i,j])\n",
    "        psvm = PegasosSVM()\n",
    "        psvm.fit(X_train_1, y_train_1)\n",
    "        print('Accuracy for Linear Classifier for classes', i, j, 'is', psvm.classify(X_test_1, y_test_1))\n",
    "        "
   ]
  },
  {
   "attachments": {
    "image.png": {
     "image/png": "[encoded data removed]"
    }
   },
   "cell_type": "markdown",
   "metadata": {},
   "source": [
    "![image.png](attachment:image.png)"
   ]
  },
  {
   "cell_type": "code",
   "execution_count": 60,
   "metadata": {},
   "outputs": [],
   "source": [
    "class KernelPegasosSVM():\n",
    "    \"\"\"Implementation of SVM with SGD with PEGASOS Algorithm\"\"\"\n",
    "    def __init__(self, iters=10, lamda=1, kernel_type=\"rbf\"):\n",
    "        self.iter = iters\n",
    "        self.lamda = lamda\n",
    "        self.alpha = 0 #Weight initialized\n",
    "        self.S = 0 #Number of Samples \n",
    "        self.weight = 0\n",
    "        self.kernel_type = kernel_type\n",
    "        self.X = 0\n",
    "        \n",
    "    def kernel_dot(self,point1, point2, gamma=1):\n",
    "        if self.kernel_type == \"rbf\":\n",
    "            diff = point1 - point2\n",
    "            diff_squared = np.dot(diff,diff)\n",
    "            return np.exp(-gamma*diff_squared)\n",
    "        elif self.kernel_type == 'poly':\n",
    "            dot_prod = np.dot(point1,point2)\n",
    "            return (dot_prod+1)*(dot_prod+1)\n",
    "        elif self.kernel_type == 'sigmoid':\n",
    "            dot_prod = np.dot(point1, point2)\n",
    "            gamma = 1/len(self.X)\n",
    "            return np.tanh(gamma*dot_prod)\n",
    "        \n",
    "    \n",
    "    def kernel_func(self,point1):\n",
    "        pass\n",
    "    \n",
    "    def check(self, index, y , X, alpha_new, t):\n",
    "        out = 0\n",
    "        prod = y[index]/(self.lamda*t)\n",
    "        for i in range(self.S):\n",
    "            if i != index:\n",
    "                out+= self.alpha[i]*self.kernel_dot(X[index], X[i])*y[i]\n",
    "        self.alpha_new = alpha_new\n",
    "        return prod*out\n",
    "        \n",
    "    def get_weight(self, X, y):\n",
    "        factor = self.iter*self.lamda\n",
    "        self.weight = np.zeros(len(X[0]))\n",
    "        for i in range(self.S):\n",
    "            self.weight += self.alpha[i]*y[i]*self.kernel_func(X[i])\n",
    "        return self.weight\n",
    "        \n",
    "    def fit(self, X, y):\n",
    "        self.iter = int(len(X)/10.0)\n",
    "        self.S = len(X) #Number of Samples\n",
    "        self.alpha = np.zeros(self.S)\n",
    "        self.X = X\n",
    "        self.y = y\n",
    "        for t in range(1,self.iter+1):\n",
    "            index = random.randint(0,self.S-1)\n",
    "            # Get index from 0 to S\n",
    "            alpha_new = self.alpha\n",
    "            alpha_new[index] = 0\n",
    "            if self.check(index, y, X, alpha_new, t) < 1:\n",
    "                self.alpha_new[index] += 1\n",
    "            else:\n",
    "                self.alpha_new[index] = self.alpha_new[index]\n",
    "            self.alpha = self.alpha_new\n",
    "    \n",
    "    def get_prediction(self, ele):\n",
    "        factor = self.iter*self.lamda\n",
    "        self.weight = 0\n",
    "        for i in range(len(self.X)):\n",
    "            self.weight += self.alpha[i]*self.y[i]*self.kernel_dot(self.X[i], ele)\n",
    "        return self.weight\n",
    "    \n",
    "    def classify(self, X, y):\n",
    "        count = 0\n",
    "        for i in tqdm(range(len(X))):\n",
    "            if y[i] == np.sign(self.get_prediction(X[i])).astype(int):\n",
    "                count += 1\n",
    "        return count/len(X)\n",
    "    "
   ]
  },
  {
   "attachments": {
    "image.png": {
     "image/png": "[encoded data removed]"
    }
   },
   "cell_type": "markdown",
   "metadata": {},
   "source": [
    "![image.png](attachment:image.png)\n"
   ]
  },
  {
   "cell_type": "code",
   "execution_count": 61,
   "metadata": {
    "scrolled": true
   },
   "outputs": [
    {
     "data": {
      "application/vnd.jupyter.widget-view+json": {
       "model_id": "f0ca4e4a7f814630842c0300cff2a416",
       "version_major": 2,
       "version_minor": 0
      },
      "text/plain": [
       "HBox(children=(IntProgress(value=0, max=2000), HTML(value='')))"
      ]
     },
     "metadata": {},
     "output_type": "display_data"
    },
    {
     "name": "stdout",
     "output_type": "stream",
     "text": [
      "\n",
      "Accuracy for RBF SVM 0.988\n",
      "Time taken 0:03:00.981479\n"
     ]
    }
   ],
   "source": [
    "from datetime import datetime\n",
    "start=datetime.now()\n",
    "X_train_1 , y_train_1, X_test_1, y_test_1 = getClasses(X_train, y_train, X_test, y_test)\n",
    "psvm = KernelPegasosSVM()\n",
    "psvm.fit(X_train_1, y_train_1)\n",
    "\n",
    "print('Accuracy for RBF SVM',psvm.classify(X_test_1, y_test_1))\n",
    "print('Time taken', datetime.now()-start)"
   ]
  },
  {
   "cell_type": "code",
   "execution_count": 63,
   "metadata": {},
   "outputs": [
    {
     "data": {
      "application/vnd.jupyter.widget-view+json": {
       "model_id": "c751196f07874feea5e08dba6f3abea3",
       "version_major": 2,
       "version_minor": 0
      },
      "text/plain": [
       "HBox(children=(IntProgress(value=0, max=2000), HTML(value='')))"
      ]
     },
     "metadata": {},
     "output_type": "display_data"
    },
    {
     "name": "stdout",
     "output_type": "stream",
     "text": [
      "\n",
      "Accuracy for polynomial SVM, degree 2 0.971\n",
      "Time taken 0:01:41.453164\n"
     ]
    }
   ],
   "source": [
    "start=datetime.now()\n",
    "X_train_1 , y_train_1, X_test_1, y_test_1 = getClasses(X_train, y_train, X_test, y_test)\n",
    "psvm = KernelPegasosSVM()\n",
    "psvm.kernel_type = \"poly\"\n",
    "psvm.fit(X_train_1, y_train_1)\n",
    "print('Accuracy for polynomial SVM, degree 2',psvm.classify(X_test_1, y_test_1))\n",
    "print('Time taken', datetime.now()-start)"
   ]
  },
  {
   "cell_type": "code",
   "execution_count": 65,
   "metadata": {},
   "outputs": [
    {
     "data": {
      "application/vnd.jupyter.widget-view+json": {
       "model_id": "07b6410947dd4599a81a7c7e10c5af89",
       "version_major": 2,
       "version_minor": 0
      },
      "text/plain": [
       "HBox(children=(IntProgress(value=0, max=2000), HTML(value='')))"
      ]
     },
     "metadata": {},
     "output_type": "display_data"
    },
    {
     "name": "stdout",
     "output_type": "stream",
     "text": [
      "\n",
      "Accuracy for sigmoid  kernel SVM, degree 2 0.909\n",
      "Time taken 0:02:34.129210\n"
     ]
    }
   ],
   "source": [
    "start=datetime.now()\n",
    "X_train_1 , y_train_1, X_test_1, y_test_1 = getClasses(X_train, y_train, X_test, y_test)\n",
    "psvm = KernelPegasosSVM()\n",
    "psvm.kernel_type = \"sigmoid\"\n",
    "psvm.fit(X_train_1, y_train_1)\n",
    "print('Accuracy for sigmoid  kernel SVM, degree 2',psvm.classify(X_test_1, y_test_1))\n",
    "print('Time taken', datetime.now()-start)"
   ]
  },
  {
   "cell_type": "code",
   "execution_count": 66,
   "metadata": {},
   "outputs": [],
   "source": [
    "def multiClassesTrain(X_train, y_train, class_label=1):\n",
    "    smaller_training_X = []\n",
    "    smaller_training_Y = []\n",
    "    for i in range(len((X_train))):\n",
    "        if y_train[i] == class_label:\n",
    "            smaller_training_X.append(X_train[i])\n",
    "            smaller_training_Y.append(1)\n",
    "        else:\n",
    "            smaller_training_X.append(X_train[i])\n",
    "            smaller_training_Y.append(-1)\n",
    "    return np.array(smaller_training_X), np.array(smaller_training_Y)\n",
    "\n",
    "def getClassesTrain(X_train, y_train, classes = [1,2]):\n",
    "    smaller_training_X = []\n",
    "    smaller_training_Y = []\n",
    "    for i in range(len((X_train))):\n",
    "        if y_train[i] in classes:\n",
    "            smaller_training_X.append(X_train[i])\n",
    "            smaller_training_Y.append(y_train[i])\n",
    "    smaller_training_Y = normalize_classes(smaller_training_Y, min(classes), max(classes))\n",
    "    return np.array(smaller_training_X), np.array(smaller_training_Y)\n"
   ]
  },
  {
   "cell_type": "code",
   "execution_count": 67,
   "metadata": {},
   "outputs": [],
   "source": [
    "class multiSVM():\n",
    "    \n",
    "    def __init__(self,num_labels=10):\n",
    "        self.num_labels = num_labels\n",
    "        self.num_classifiers = num_labels*(num_labels-1)/2\n",
    "        self.classifier_matrix = [[0 for i in range(num_labels)] for j in range(num_labels)]\n",
    "    \n",
    "    def fit(self, X, y): \n",
    "        for i in range(0,self.num_labels):\n",
    "            for j in range(0,i):\n",
    "                X_train_1 , y_train_1 = getClassesTrain(X,y,classes=[i,j])\n",
    "                self.classifier_matrix[i][j] = PegasosSVM()\n",
    "                self.classifier_matrix[i][j].iter = 10000\n",
    "                self.classifier_matrix[i][j].fit(X_train_1,y_train_1)\n",
    "    \n",
    "    def multiClassLabel(self, X, y):\n",
    "        output_labels = [[0 for i in range(self.num_labels)] for j in range(self.num_labels)]\n",
    "        for i in range(self.num_labels):\n",
    "            for j in range(i):\n",
    "                output_labels[i][j] = self.classifier_matrix[i][j].get_prediction(X)\n",
    "        \n",
    "        final_labels = []\n",
    "        class_count = np.zeros(self.num_labels)\n",
    "        for index in range(len(X)):\n",
    "            class_count = np.zeros(self.num_labels)\n",
    "            for i in range(self.num_labels):\n",
    "                for j in range(i):\n",
    "                    if output_labels[i][j][index] == -1:\n",
    "                        class_count[i] += 1\n",
    "                    else:\n",
    "                        class_count[j] += 1\n",
    "            final_labels.append(np.argmax(class_count))\n",
    "        \n",
    "        return final_labels\n",
    "\n",
    "    def multiClassify(self, X, y):\n",
    "        y_pred = self.multiClassLabel(X,y)\n",
    "        count = 0\n",
    "        for i in range(len(y)):\n",
    "            if y_pred[i] == y[i]:\n",
    "                count+=1\n",
    "        return count/len(y)"
   ]
  },
  {
   "cell_type": "code",
   "execution_count": 72,
   "metadata": {},
   "outputs": [
    {
     "name": "stdout",
     "output_type": "stream",
     "text": [
      "Accuracy for multi class SVM Linear Majority Voting 0.03\n",
      "0:00:00.520345\n"
     ]
    }
   ],
   "source": [
    "mpsvm = multiSVM()\n",
    "mpsvm.fit(X_train, y_train)\n",
    "start = datetime.now()\n",
    "print('Accuracy for multi class SVM Linear Majority Voting',100*mpsvm.multiClassify(X_test, y_test))\n",
    "print(datetime.now()-start)"
   ]
  },
  {
   "cell_type": "code",
   "execution_count": 69,
   "metadata": {},
   "outputs": [],
   "source": []
  },
  {
   "cell_type": "code",
   "execution_count": null,
   "metadata": {},
   "outputs": [],
   "source": []
  }
 ],
 "metadata": {
  "kernelspec": {
   "display_name": "Python 3",
   "language": "python",
   "name": "python3"
  },
  "language_info": {
   "codemirror_mode": {
    "name": "ipython",
    "version": 3
   },
   "file_extension": ".py",
   "mimetype": "text/x-python",
   "name": "python",
   "nbconvert_exporter": "python",
   "pygments_lexer": "ipython3",
   "version": "3.6.5"
  }
 },
 "nbformat": 4,
 "nbformat_minor": 2
}
